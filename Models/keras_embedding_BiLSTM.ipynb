{
  "cells": [
    {
      "cell_type": "markdown",
      "id": "2f87f703",
      "metadata": {
        "id": "2f87f703"
      },
      "source": [
        "# Imports and variables"
      ]
    },
    {
      "cell_type": "code",
      "execution_count": 1,
      "id": "986f0328",
      "metadata": {
        "id": "986f0328"
      },
      "outputs": [
        {
          "name": "stderr",
          "output_type": "stream",
          "text": [
            "2023-04-22 00:17:55.748748: I tensorflow/core/platform/cpu_feature_guard.cc:182] This TensorFlow binary is optimized to use available CPU instructions in performance-critical operations.\n",
            "To enable the following instructions: AVX2 FMA, in other operations, rebuild TensorFlow with the appropriate compiler flags.\n"
          ]
        }
      ],
      "source": [
        "import re\n",
        "import numpy as np\n",
        "import pandas as pd\n",
        "import matplotlib.pyplot as plt\n",
        "import keras\n",
        "from keras.models import load_model\n",
        "from keras.layers import *\n",
        "from keras.preprocessing.text import Tokenizer \n",
        "from keras.utils import pad_sequences\n",
        "from keras.layers import *\n",
        "from keras import backend as K\n",
        "from keras import layers\n",
        "import csv\n",
        "import matplotlib\n",
        "import os\n",
        "\n",
        "matplotlib.rcParams['figure.dpi'] = 100\n",
        "\n",
        "os.environ[\"CUDA_VISIBLE_DEVICES\"]=\"-1\""
      ]
    },
    {
      "cell_type": "code",
      "execution_count": 2,
      "id": "433a74f0",
      "metadata": {
        "id": "433a74f0"
      },
      "outputs": [],
      "source": [
        "# # For Colab only:\n",
        "# path_to_project = 'Intents-Classification-in-dialogue/'\n",
        "# Otherwise,\n",
        "path_to_project = '../'\n",
        "\n",
        "column_names = ['c1', 'Utterances', 'Basic', 'General', 'Full']\n",
        "MAX_PADDING = 100"
      ]
    },
    {
      "cell_type": "markdown",
      "id": "a9642a9d",
      "metadata": {
        "id": "a9642a9d"
      },
      "source": [
        "# Data Import and Preprocessing"
      ]
    },
    {
      "cell_type": "code",
      "execution_count": 3,
      "id": "c11b62db",
      "metadata": {
        "id": "c11b62db"
      },
      "outputs": [],
      "source": [
        "def import_data_and_tokenizer(path_to_data):\n",
        "    #Import data\n",
        "    full_data = pd.read_csv(path_to_data, delimiter='|', names=column_names)\n",
        "\n",
        "    #Create tokenizer\n",
        "    tokenizer = Tokenizer(num_words = 5000, split=\" \")\n",
        "    tokenizer.fit_on_texts(full_data['Utterances'].values)\n",
        "\n",
        "    return full_data, tokenizer"
      ]
    },
    {
      "cell_type": "code",
      "execution_count": 4,
      "id": "d63cf555",
      "metadata": {
        "colab": {
          "base_uri": "https://localhost:8080/",
          "height": 206
        },
        "id": "d63cf555",
        "outputId": "fd29f1a3-f729-464b-cd57-0ff6edbf9c7a"
      },
      "outputs": [
        {
          "data": {
            "text/html": [
              "<div>\n",
              "<style scoped>\n",
              "    .dataframe tbody tr th:only-of-type {\n",
              "        vertical-align: middle;\n",
              "    }\n",
              "\n",
              "    .dataframe tbody tr th {\n",
              "        vertical-align: top;\n",
              "    }\n",
              "\n",
              "    .dataframe thead th {\n",
              "        text-align: right;\n",
              "    }\n",
              "</style>\n",
              "<table border=\"1\" class=\"dataframe\">\n",
              "  <thead>\n",
              "    <tr style=\"text-align: right;\">\n",
              "      <th></th>\n",
              "      <th>c1</th>\n",
              "      <th>Utterances</th>\n",
              "      <th>Basic</th>\n",
              "      <th>General</th>\n",
              "      <th>Full</th>\n",
              "    </tr>\n",
              "  </thead>\n",
              "  <tbody>\n",
              "    <tr>\n",
              "      <th>0</th>\n",
              "      <td>fe016</td>\n",
              "      <td>okay.</td>\n",
              "      <td>F</td>\n",
              "      <td>fg</td>\n",
              "      <td>fg</td>\n",
              "    </tr>\n",
              "    <tr>\n",
              "      <th>1</th>\n",
              "      <td>fe016</td>\n",
              "      <td>so um</td>\n",
              "      <td>F</td>\n",
              "      <td>fh</td>\n",
              "      <td>fh</td>\n",
              "    </tr>\n",
              "    <tr>\n",
              "      <th>2</th>\n",
              "      <td>fe016</td>\n",
              "      <td>i was going to try to get out of here like in ...</td>\n",
              "      <td>S</td>\n",
              "      <td>s</td>\n",
              "      <td>rt</td>\n",
              "    </tr>\n",
              "    <tr>\n",
              "      <th>3</th>\n",
              "      <td>fe016</td>\n",
              "      <td>um</td>\n",
              "      <td>F</td>\n",
              "      <td>fh</td>\n",
              "      <td>fh</td>\n",
              "    </tr>\n",
              "    <tr>\n",
              "      <th>4</th>\n",
              "      <td>fe016</td>\n",
              "      <td>because i really appreciate people coming.</td>\n",
              "      <td>S</td>\n",
              "      <td>s</td>\n",
              "      <td>s</td>\n",
              "    </tr>\n",
              "  </tbody>\n",
              "</table>\n",
              "</div>"
            ],
            "text/plain": [
              "      c1                                         Utterances Basic General Full\n",
              "0  fe016                                              okay.     F      fg   fg\n",
              "1  fe016                                              so um     F      fh   fh\n",
              "2  fe016  i was going to try to get out of here like in ...     S       s   rt\n",
              "3  fe016                                                 um     F      fh   fh\n",
              "4  fe016         because i really appreciate people coming.     S       s    s"
            ]
          },
          "execution_count": 4,
          "metadata": {},
          "output_type": "execute_result"
        }
      ],
      "source": [
        "# We import the full dataset and we display it\n",
        "full_data, tokenizer = import_data_and_tokenizer(path_to_project + 'Datasets/MRDA/mrda_data/full_set.txt')\n",
        "full_data.head()"
      ]
    },
    {
      "cell_type": "code",
      "execution_count": 5,
      "id": "0ffebea2",
      "metadata": {
        "id": "0ffebea2"
      },
      "outputs": [],
      "source": [
        "def processed_data(data):\n",
        "    \"\"\"\n",
        "    This function extracts and processes the input data and returns the x and y values for the model\n",
        "    \"\"\"\n",
        "    data['Utterances'] = data['Utterances'].apply(lambda x: x.lower())\n",
        "    data['Utterances'] = data['Utterances'].apply(lambda x: re.sub('[^a-zA-z0-9\\s]','',x))\n",
        "\n",
        "    # We tokenize the x values\n",
        "    x = pad_sequences(tokenizer.texts_to_sequences(data['Utterances'].values), padding='post', maxlen=MAX_PADDING)\n",
        "    # We create dummy variables for the y values (one hot encoding)\n",
        "    y = pd.get_dummies(data['Basic']).values\n",
        "    \n",
        "    return x,y"
      ]
    },
    {
      "cell_type": "code",
      "execution_count": 6,
      "id": "3cede2ea",
      "metadata": {
        "id": "3cede2ea"
      },
      "outputs": [],
      "source": [
        "# We import the train, validation and test datasets\n",
        "train_data = pd.read_csv(path_to_project + 'Datasets/MRDA/mrda_data/train_set.txt', delimiter='|', names=column_names)\n",
        "x_train, y_train = processed_data(train_data)\n",
        "\n",
        "val_data = pd.read_csv(path_to_project + 'Datasets/MRDA/mrda_data/val_set.txt', delimiter='|', names=column_names)\n",
        "x_val, y_val = processed_data(val_data)\n",
        "\n",
        "test_data = pd.read_csv(path_to_project + 'Datasets/MRDA/mrda_data/test_set.txt', delimiter='|', names=column_names)\n",
        "x_test, y_test = processed_data(test_data)"
      ]
    },
    {
      "cell_type": "markdown",
      "id": "c3bd77d9",
      "metadata": {
        "id": "c3bd77d9"
      },
      "source": [
        "# Model definition and training: Keras Embedding + BiLSTM"
      ]
    },
    {
      "cell_type": "code",
      "execution_count": 7,
      "id": "10bbae7e",
      "metadata": {
        "id": "10bbae7e"
      },
      "outputs": [],
      "source": [
        "# We import a pre-trained model\n",
        "model = load_model(path_to_project+'Trained_models/embedding_bilstm_1.h5')"
      ]
    },
    {
      "cell_type": "markdown",
      "id": "407f9b8a",
      "metadata": {
        "id": "407f9b8a"
      },
      "source": [
        "Details of the neural network model: **Keras Embedding + BiLSTM**\n",
        "- Embedding layer with 5000 words and 300 dimensions\n",
        "- Bidirectional LSTM with 20 units\n",
        "- Dropout of 0.3\n",
        "- Recurrent dropout of 0.2\n",
        "- Dense layer with 5 units and softmax activation"
      ]
    },
    {
      "cell_type": "code",
      "execution_count": 38,
      "id": "3228d7f2",
      "metadata": {
        "id": "3228d7f2"
      },
      "outputs": [],
      "source": [
        "inputs1=Input(shape=(100,))\n",
        "x1=Embedding(input_dim=5000,\n",
        "             output_dim=300,\n",
        "             input_length=100,\n",
        "             embeddings_regularizer=keras.regularizers.l2(.001))(inputs1)\n",
        "\n",
        "x1=Bidirectional(LSTM(units=20,\n",
        "                      dropout=0.3,\n",
        "                      recurrent_dropout=0.2,\n",
        "                      return_sequences = False))(x1)\n",
        "\n",
        "output=Dense(5,activation='softmax')(x1) \n",
        "model=keras.Model(inputs1,output)"
      ]
    },
    {
      "cell_type": "code",
      "execution_count": 39,
      "id": "0f872940",
      "metadata": {
        "colab": {
          "base_uri": "https://localhost:8080/"
        },
        "id": "0f872940",
        "outputId": "478cdafe-b3c4-4b13-cae3-00ba806abb25"
      },
      "outputs": [
        {
          "name": "stdout",
          "output_type": "stream",
          "text": [
            "Model: \"model\"\n",
            "_________________________________________________________________\n",
            " Layer (type)                Output Shape              Param #   \n",
            "=================================================================\n",
            " input_1 (InputLayer)        [(None, 100)]             0         \n",
            "                                                                 \n",
            " embedding (Embedding)       (None, 100, 300)          1500000   \n",
            "                                                                 \n",
            " bidirectional (Bidirectiona  (None, 40)               51360     \n",
            " l)                                                              \n",
            "                                                                 \n",
            " dense (Dense)               (None, 5)                 205       \n",
            "                                                                 \n",
            "=================================================================\n",
            "Total params: 1,551,565\n",
            "Trainable params: 1,551,565\n",
            "Non-trainable params: 0\n",
            "_________________________________________________________________\n"
          ]
        }
      ],
      "source": [
        "model.compile(loss='categorical_crossentropy',\n",
        "              optimizer='adam',\n",
        "              metrics=['accuracy'])\n",
        "model.summary()"
      ]
    },
    {
      "cell_type": "code",
      "execution_count": 10,
      "id": "52181f91",
      "metadata": {
        "colab": {
          "base_uri": "https://localhost:8080/",
          "height": 1000
        },
        "id": "52181f91",
        "outputId": "75adefbe-33c4-4cb9-bacd-04ad3a140f9a"
      },
      "outputs": [
        {
          "name": "stdout",
          "output_type": "stream",
          "text": [
            "Epoch 1/100\n",
            "2346/2346 [==============================] - 825s 349ms/step - loss: 0.7446 - accuracy: 0.7494 - val_loss: 0.7281 - val_accuracy: 0.7544\n",
            "Epoch 2/100\n",
            "2346/2346 [==============================] - 815s 347ms/step - loss: 0.6602 - accuracy: 0.7784 - val_loss: 0.7150 - val_accuracy: 0.7608\n",
            "Epoch 3/100\n",
            "2346/2346 [==============================] - 833s 355ms/step - loss: 0.6483 - accuracy: 0.7837 - val_loss: 0.7059 - val_accuracy: 0.7650\n",
            "Epoch 4/100\n",
            "2346/2346 [==============================] - 843s 359ms/step - loss: 0.6427 - accuracy: 0.7865 - val_loss: 0.7081 - val_accuracy: 0.7681\n",
            "Epoch 5/100\n",
            "2346/2346 [==============================] - 816s 348ms/step - loss: 0.6379 - accuracy: 0.7884 - val_loss: 0.7079 - val_accuracy: 0.7633\n",
            "Epoch 6/100\n",
            "2346/2346 [==============================] - 822s 350ms/step - loss: 0.6344 - accuracy: 0.7897 - val_loss: 0.6962 - val_accuracy: 0.7660\n",
            "Epoch 7/100\n",
            "2346/2346 [==============================] - 818s 349ms/step - loss: 0.6323 - accuracy: 0.7910 - val_loss: 0.6925 - val_accuracy: 0.7697\n",
            "Epoch 8/100\n",
            "2346/2346 [==============================] - 817s 348ms/step - loss: 0.6313 - accuracy: 0.7916 - val_loss: 0.6980 - val_accuracy: 0.7711\n",
            "Epoch 9/100\n",
            "2346/2346 [==============================] - 840s 358ms/step - loss: 0.6286 - accuracy: 0.7925 - val_loss: 0.7014 - val_accuracy: 0.7689\n",
            "Epoch 10/100\n",
            "2346/2346 [==============================] - 831s 354ms/step - loss: 0.6270 - accuracy: 0.7937 - val_loss: 0.6988 - val_accuracy: 0.7709\n",
            "Epoch 11/100\n",
            "2346/2346 [==============================] - 855s 365ms/step - loss: 0.6259 - accuracy: 0.7943 - val_loss: 0.7000 - val_accuracy: 0.7736\n",
            "Epoch 12/100\n",
            "2346/2346 [==============================] - 854s 364ms/step - loss: 0.6259 - accuracy: 0.7945 - val_loss: 0.6989 - val_accuracy: 0.7709\n",
            "Epoch 13/100\n",
            "2346/2346 [==============================] - 825s 352ms/step - loss: 0.6237 - accuracy: 0.7950 - val_loss: 0.6915 - val_accuracy: 0.7747\n",
            "Epoch 14/100\n",
            "2346/2346 [==============================] - 827s 352ms/step - loss: 0.6236 - accuracy: 0.7957 - val_loss: 0.6897 - val_accuracy: 0.7732\n",
            "Epoch 15/100\n",
            "2346/2346 [==============================] - 832s 354ms/step - loss: 0.6220 - accuracy: 0.7956 - val_loss: 0.6888 - val_accuracy: 0.7718\n",
            "Epoch 15: early stopping\n"
          ]
        },
        {
          "data": {
            "image/png": "[encoded data removed]",
            "text/plain": [
              "<Figure size 640x480 with 1 Axes>"
            ]
          },
          "metadata": {},
          "output_type": "display_data"
        }
      ],
      "source": [
        "# We define the early stopping callback: the training will stop if the accuracy does not improve after 1 epoch\n",
        "early_stopping = keras.callbacks.EarlyStopping(monitor='accuracy', \n",
        "                                               mode='auto', \n",
        "                                               patience=1, \n",
        "                                               verbose=1)\n",
        "\n",
        "# We train the model\n",
        "hist = model.fit(x_train, y_train, \n",
        "          epochs=100, \n",
        "          batch_size=32, \n",
        "          verbose=1,\n",
        "          callbacks=[early_stopping],\n",
        "          validation_data=(x_val, y_val))\n",
        "\n",
        "# We save the trained model\n",
        "model.save('embedding_bilstm_1.h5')\n",
        "\n",
        "# We plot the training and validation accuracy\n",
        "plt.plot(hist.history['accuracy'])\n",
        "plt.plot(hist.history['val_accuracy'])\n",
        "plt.title('Model accuracy')\n",
        "plt.ylabel('Accuracy')\n",
        "plt.xlabel('Epoch')\n",
        "plt.legend(['Train', 'Val'], loc='upper left')\n",
        "plt.show()"
      ]
    },
    {
      "cell_type": "markdown",
      "id": "ec45e0cd",
      "metadata": {
        "id": "ec45e0cd"
      },
      "source": [
        "# Model evaluation"
      ]
    },
    {
      "cell_type": "code",
      "execution_count": 8,
      "id": "96a3bf87",
      "metadata": {
        "colab": {
          "base_uri": "https://localhost:8080/"
        },
        "id": "96a3bf87",
        "outputId": "63495307-caf5-4ed2-968b-835651221a2e"
      },
      "outputs": [
        {
          "name": "stdout",
          "output_type": "stream",
          "text": [
            "522/522 [==============================] - 44s 81ms/step - loss: 0.9320 - accuracy: 0.6927\n"
          ]
        },
        {
          "data": {
            "text/plain": [
              "[0.9320386648178101, 0.6927313804626465]"
            ]
          },
          "execution_count": 8,
          "metadata": {},
          "output_type": "execute_result"
        }
      ],
      "source": [
        "model.evaluate(x_test, y_test)"
      ]
    },
    {
      "cell_type": "code",
      "execution_count": 9,
      "id": "c4978260",
      "metadata": {
        "colab": {
          "base_uri": "https://localhost:8080/"
        },
        "id": "c4978260",
        "outputId": "34226f82-db2e-4f85-c118-281e42f00a7e"
      },
      "outputs": [
        {
          "name": "stdout",
          "output_type": "stream",
          "text": [
            "522/522 [==============================] - 29s 53ms/step\n"
          ]
        }
      ],
      "source": [
        "y_pred = model.predict(x_test)\n",
        "\n",
        "# Convert predictions classes to one hot vectors\n",
        "y_pred_classes = np.argmax(y_pred, axis=1)\n",
        "y_true_classes = np.argmax(y_test, axis=1)"
      ]
    },
    {
      "cell_type": "markdown",
      "id": "09570070",
      "metadata": {
        "id": "09570070"
      },
      "source": [
        "### F1 score"
      ]
    },
    {
      "cell_type": "code",
      "execution_count": 10,
      "id": "151b82d8",
      "metadata": {
        "colab": {
          "base_uri": "https://localhost:8080/"
        },
        "id": "151b82d8",
        "outputId": "93b3c8c3-9662-4361-a779-c1aa6f594ebd"
      },
      "outputs": [
        {
          "name": "stdout",
          "output_type": "stream",
          "text": [
            "F1 score(macro) 0.5046690725995717\n",
            "F1 score(micro) 0.6927314094120465\n"
          ]
        }
      ],
      "source": [
        "from sklearn.metrics import f1_score\n",
        "print(\"F1 score(macro)\",f1_score(y_true_classes, y_pred_classes, average='macro'))\n",
        "print(\"F1 score(micro)\",f1_score(y_true_classes, y_pred_classes, average='micro'))"
      ]
    },
    {
      "cell_type": "markdown",
      "id": "d1884a80",
      "metadata": {
        "id": "d1884a80"
      },
      "source": [
        "### Confusion matrix"
      ]
    },
    {
      "cell_type": "code",
      "execution_count": 11,
      "id": "2bfb3f9d",
      "metadata": {
        "colab": {
          "base_uri": "https://localhost:8080/",
          "height": 718
        },
        "id": "2bfb3f9d",
        "outputId": "3ecf3961-bbe0-433a-efc8-f28490728a79"
      },
      "outputs": [
        {
          "data": {
            "image/png": "[encoded data removed]",
            "text/plain": [
              "<Figure size 800x800 with 2 Axes>"
            ]
          },
          "metadata": {},
          "output_type": "display_data"
        }
      ],
      "source": [
        "# !pip install numpy==1.22 scipy scikit-learn -U --user\n",
        "from sklearn.metrics import confusion_matrix\n",
        "import seaborn as sns\n",
        "\n",
        "confusion_mtx = confusion_matrix(y_true_classes, y_pred_classes)\n",
        "\n",
        "f,ax = plt.subplots(figsize=(8, 8))\n",
        "sns.heatmap(confusion_mtx, annot=True, linewidths=0.01,linecolor=\"gray\", fmt= '.1f',ax=ax,cmap=\"Blues\",yticklabels=['B', 'D', 'F', 'Q', 'S'],xticklabels=['B', 'D', 'F', 'Q', 'S'])\n",
        "plt.xlabel(\"Predicted Label\")\n",
        "plt.ylabel(\"True Label\")\n",
        "plt.title(\"Confusion Matrix\")\n",
        "plt.show()"
      ]
    },
    {
      "cell_type": "markdown",
      "id": "3d822c71",
      "metadata": {
        "id": "3d822c71"
      },
      "source": [
        "### Classification report (precision, recall, f1-score, support)"
      ]
    },
    {
      "cell_type": "code",
      "execution_count": 12,
      "id": "806bc1da",
      "metadata": {
        "colab": {
          "base_uri": "https://localhost:8080/"
        },
        "id": "806bc1da",
        "outputId": "975a2e6d-6671-48f1-eaa4-71117fe7ab43"
      },
      "outputs": [
        {
          "name": "stdout",
          "output_type": "stream",
          "text": [
            "              precision    recall  f1-score   support\n",
            "\n",
            "           B       0.83      0.41      0.55      2152\n",
            "           D       0.50      0.31      0.38      2339\n",
            "           F       0.78      0.75      0.77      1409\n",
            "           Q       0.53      0.02      0.04      1231\n",
            "           S       0.69      0.93      0.79      9571\n",
            "\n",
            "    accuracy                           0.69     16702\n",
            "   macro avg       0.67      0.48      0.50     16702\n",
            "weighted avg       0.68      0.69      0.65     16702\n",
            "\n"
          ]
        }
      ],
      "source": [
        "from sklearn.metrics import classification_report\n",
        "target_names = ['B', 'D', 'F', 'Q', 'S']\n",
        "print(classification_report(y_true_classes, y_pred_classes, target_names=target_names))"
      ]
    },
    {
      "cell_type": "markdown",
      "id": "84a13543",
      "metadata": {
        "id": "84a13543"
      },
      "source": [
        "# Model prediction"
      ]
    },
    {
      "cell_type": "code",
      "execution_count": 13,
      "id": "a3b6c319",
      "metadata": {
        "colab": {
          "base_uri": "https://localhost:8080/"
        },
        "id": "a3b6c319",
        "outputId": "1919fc34-0cbe-4431-c5a7-ade2f3e65eb8"
      },
      "outputs": [],
      "source": [
        "# Predicting a single new observation\n",
        "\n",
        "DA = np.array(['B', 'D', 'F', 'Q', 'S'])\n",
        "def show_prediction(dialog):\n",
        "     tokenizer = Tokenizer(num_words = 5000, split=\" \")\n",
        "     full_data = pd.read_csv(path_to_project + 'Datasets/MRDA/mrda_data/full_set.txt', delimiter='|', names=column_names)\n",
        "     tokenizer.fit_on_texts(full_data['Utterances'].values)\n",
        "     dialog_tokenized = np.array(tokenizer.texts_to_sequences(dialog))\n",
        "     dialog_tokenized = pad_sequences(dialog_tokenized, padding='post', maxlen=100)\n",
        "     prediction = model.predict(np.array(dialog_tokenized))\n",
        "\n",
        "     prediction_classes = DA[prediction.argmax(1)]\n",
        "\n",
        "     # Print the prediction with the associated class\n",
        "     for i in range(len(dialog)):\n",
        "          print(\"\\nUtterance:\", dialog[i])\n",
        "          print(\"Predicted class:\", prediction_classes[i])\n",
        "          print(\"Prediction:\", [round(pred,2) for pred in prediction[i]])\n"
      ]
    },
    {
      "cell_type": "code",
      "execution_count": 20,
      "id": "d01e6a11",
      "metadata": {},
      "outputs": [
        {
          "name": "stdout",
          "output_type": "stream",
          "text": [
            "1/1 [==============================] - 0s 46ms/step\n",
            "\n",
            "Utterance: Hello !\n",
            "Predicted class: S\n",
            "Prediction: [0.11, 0.15, 0.24, 0.07, 0.43]\n",
            "\n",
            "Utterance: Do you go to school ?\n",
            "Predicted class: S\n",
            "Prediction: [0.01, 0.16, 0.01, 0.18, 0.63]\n",
            "\n",
            "Utterance: Iw\n",
            "Predicted class: F\n",
            "Prediction: [0.15, 0.1, 0.51, 0.05, 0.19]\n",
            "\n",
            "Utterance: No, I am tired.\n",
            "Predicted class: S\n",
            "Prediction: [0.0, 0.02, 0.0, 0.01, 0.97]\n",
            "\n",
            "Utterance: ok.\n",
            "Predicted class: F\n",
            "Prediction: [0.15, 0.1, 0.51, 0.05, 0.19]\n"
          ]
        },
        {
          "name": "stderr",
          "output_type": "stream",
          "text": [
            "/var/folders/sw/b6927cms6sj_2s73096f9znc0000gn/T/ipykernel_26410/2676879505.py:8: VisibleDeprecationWarning: Creating an ndarray from ragged nested sequences (which is a list-or-tuple of lists-or-tuples-or ndarrays with different lengths or shapes) is deprecated. If you meant to do this, you must specify 'dtype=object' when creating the ndarray.\n",
            "  dialog_tokenized = np.array(tokenizer.texts_to_sequences(dialog))\n"
          ]
        }
      ],
      "source": [
        "dialog = [\"Hello !\",\n",
        "     \"Do you go to school ?\",\n",
        "     \"Iw\",\n",
        "     \"No, I am tired.\",\n",
        "     \"ok.\"]\n",
        "\n",
        "show_prediction(dialog)"
      ]
    }
  ],
  "metadata": {
    "colab": {
      "provenance": []
    },
    "gpuClass": "standard",
    "kernelspec": {
      "display_name": "Python 3 (ipykernel)",
      "language": "python",
      "name": "python3"
    },
    "language_info": {
      "codemirror_mode": {
        "name": "ipython",
        "version": 3
      },
      "file_extension": ".py",
      "mimetype": "text/x-python",
      "name": "python",
      "nbconvert_exporter": "python",
      "pygments_lexer": "ipython3",
      "version": "3.9.16"
    }
  },
  "nbformat": 4,
  "nbformat_minor": 5
}
